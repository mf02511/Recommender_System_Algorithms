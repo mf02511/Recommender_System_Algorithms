{
 "cells": [
  {
   "cell_type": "markdown",
   "metadata": {},
   "source": [
    "This implementation is adapted from stathwang's FPMC repository: https://github.com/stathwang/FPMC"
   ]
  },
  {
   "cell_type": "markdown",
   "metadata": {},
   "source": [
    "## Code Implementation"
   ]
  },
  {
   "cell_type": "code",
   "execution_count": 1,
   "metadata": {
    "colab": {
     "base_uri": "https://localhost:8080/",
     "height": 382
    },
    "id": "20JNQzOb9te4",
    "outputId": "d0d3b50b-f77b-49ba-9409-75f9eea59c21"
   },
   "outputs": [],
   "source": [
    "import pandas as pd\n",
    "import numpy as np\n",
    "from multiprocessing import cpu_count\n",
    "from joblib import Parallel, delayed\n",
    "import time\n",
    "from scipy.stats import expon\n",
    "import math\n",
    "import matplotlib.pyplot as plt\n",
    "from sklearn.metrics import ndcg_score\n"
   ]
  },
  {
   "cell_type": "code",
   "execution_count": 2,
   "metadata": {
    "id": "fJw8it78-kAb"
   },
   "outputs": [],
   "source": [
    "# Load the dataset: beauty 2023\n",
    "dat = pd.read_csv(\"/Users/joywang/Desktop/2024_FALL/DSC 210/Recommender_System_Algorithms/assets/beauty23_clean.csv\")"
   ]
  },
  {
   "cell_type": "code",
   "execution_count": 3,
   "metadata": {
    "id": "9fJZzNZ6TWFb"
   },
   "outputs": [],
   "source": [
    "# Load the dataset:\n",
    "dat2 = dat[['usr', 'prod']]\n",
    "\n",
    "# Remove users with low rating activity and rare items\n",
    "np.random.seed(321)\n",
    "min_usr = 1\n",
    "min_prod = 6\n",
    "#filter user that only appear once\n",
    "dat2 = dat2[dat2['usr'].isin(dat2['usr'].value_counts()[dat2['usr'].value_counts() > min_usr].index)]\n",
    "#filter product that appears less than 6 times\n",
    "dat2 = dat2[dat2['prod'].isin(dat2['prod'].value_counts()[dat2['prod'].value_counts() > min_prod].index)]\n",
    "#filter user that only appear once\n",
    "dat2 = dat2[dat2['usr'].isin(dat2['usr'].value_counts()[dat2['usr'].value_counts() > min_usr].index)]\n",
    "dat2\n",
    "\n",
    "# Split data into train, dev, test\n",
    "def split_data(dat2, test_prop=0.05, dev_prop=0.15, seed=123):\n",
    "    np.random.seed(seed)\n",
    "    dat_split = {}\n",
    "    for usr, group in dat2.groupby('usr'):\n",
    "        n = len(group) #number of unique users\n",
    "        test_idx = group.index[-int(n * test_prop):] # last 20% for that user\n",
    "        remaining_idx = group.index[:-int(n * test_prop)]# first 80% for that user\n",
    "        dev_idx = remaining_idx[-int(len(remaining_idx) * dev_prop / (1 - test_prop)):]\n",
    "        train_idx = remaining_idx[:-len(dev_idx)]\n",
    "        dat_split[usr] = {\n",
    "            'test': group.loc[test_idx],\n",
    "            'dev': group.loc[dev_idx],\n",
    "            'train': group.loc[train_idx]\n",
    "        }\n",
    "    return dat_split\n",
    "\n",
    "dat_split = split_data(dat2, test_prop=0.15, dev_prop=0.05, seed=321)\n",
    "\n",
    "train = pd.concat([x['train'] for x in dat_split.values()])\n",
    "dev = pd.concat([x['dev'] for x in dat_split.values()])\n",
    "test = pd.concat([x['test'] for x in dat_split.values()])\n",
    "\n",
    "# Look-up dictionaries for users and products\n",
    "all_prods = train['prod'].unique()\n",
    "prod2idx = {prod: idx for idx, prod in enumerate(all_prods)} \n",
    "idx2prod = {idx: prod for idx, prod in enumerate(all_prods)} \n",
    "\n",
    "all_users = train['usr'].unique()\n",
    "usr2idx = {usr: idx for idx, usr in enumerate(all_users)} \n",
    "idx2usr = {idx: usr for idx, usr in enumerate(all_users)}\n",
    "\n",
    "train['usr_idx'] = train['usr'].map(usr2idx)\n",
    "train['prod_idx'] = train['prod'].map(prod2idx)\n",
    "\n",
    "# Retrieve the top 1% of products as popular products\n",
    "pop_prods = train.groupby(['prod', 'prod_idx']).size().reset_index(name='N').nlargest(int(len(train) * 0.01), 'N')\n",
    "\n",
    "# If a product in dev or test set does not appear in training, assign a fixed prod_idx of zero\n",
    "dev['usr_idx'] = dev['usr'].map(usr2idx)\n",
    "dev['prod_idx'] = dev['prod'].map(prod2idx)\n",
    "dev = dev[dev['prod_idx'].notna()]\n",
    "\n",
    "test['usr_idx'] = test['usr'].map(usr2idx)\n",
    "test['prod_idx'] = test['prod'].map(prod2idx)\n",
    "test = test[test['prod_idx'].notna()]\n"
   ]
  },
  {
   "cell_type": "code",
   "execution_count": 4,
   "metadata": {
    "id": "BIp8AMJqTnIg"
   },
   "outputs": [],
   "source": [
    "# FPMC: Factorized Personalized Markov Chains\n",
    "# This function trains an FPMC model based on sequential basket data.\n",
    "\n",
    "def fpmc(dat2, k_cf=32, k_mc=32,\n",
    "        reg=0, init_sigma=1,\n",
    "        learning_rate=0.5, learning_rate_decay=1,\n",
    "        maxiters=100, maxtime=float('inf'),\n",
    "        sampling_bias=100, adaptive_sampling=True,\n",
    "        seed=123):\n",
    "    \"\"\"\n",
    "    Parameters:\n",
    "    dat2: The dataset containing user-product interaction data. \n",
    "    k_cf: Dimensionality of the latent factors for the Collaborative Filtering component.\n",
    "    k_mc: Dimensionality of the latent factors for the Markov Chain component.\n",
    "    reg: Regularization parameter to prevent overfitting. It applies L2 regularization to the latent factors.\n",
    "    init_sigma: Standard deviation used for initializing the latent factor matrices with random values.\n",
    "    learning_rate: Initial learning rate for the gradient descent optimization.\n",
    "    learning_rate_decay: Factor to decay the learning rate after each iteration. A value of 1 disables decay.\n",
    "    maxiters: Maximum number of iterations for the training loop.\n",
    "    maxtime: Maximum training time in minutes. Training will stop when the time exceeds this limit.\n",
    "    sampling_bias: Scale parameter for the exponential distribution used in adaptive sampling.\n",
    "    adaptive_sampling: Set to True, use adaptive sampling based on ranking and variance of the latent factors. \n",
    "\n",
    "    Returns:\n",
    "        A dictionary containing the trained latent factor matrices and training metrics:\n",
    "        - 'avg_cost': Average error over iterations\n",
    "        - 'current_absolute_cost': Error per iteration\n",
    "        - 'current_delta': Update magnitude per iteration\n",
    "        - 'V_user_prod': User-product latent factor matrix (CF)\n",
    "        - 'V_prod_user': Product-user latent factor matrix (CF)\n",
    "        - 'V_prev_next': Previous-next product transition matrix (MC)\n",
    "        - 'V_next_prev': Next-previous product transition matrix (MC)\n",
    "        - 'k_cf': Latent dimensionality for CF\n",
    "        - 'k_mc': Latent dimensionality for MC\n",
    "    \"\"\"\n",
    "\n",
    "    # Record the start time for time-constrained training\n",
    "    starttime = time.time()\n",
    "\n",
    "    # Determine the number of unique users and products in the dataset\n",
    "    n_users = dat2['usr'].nunique()\n",
    "    n_prods = dat2['prod'].nunique()\n",
    "\n",
    "    # Initialize latent factors for Collaborative Filtering (CF) and Markov Chain (MC) components\n",
    "    np.random.seed(seed)\n",
    "    V_user_prod = init_sigma * np.random.randn(n_users, k_cf)  # User-product interaction matrix (CF)\n",
    "    V_prod_user = init_sigma * np.random.randn(n_prods, k_cf)  # Product-user interaction matrix (CF)\n",
    "    V_prev_next = init_sigma * np.random.randn(n_prods, k_mc)  # Previous-next product transitions (MC)\n",
    "    V_next_prev = init_sigma * np.random.randn(n_prods, k_mc)  # Next-previous product transitions (MC)\n",
    "\n",
    "    # Initialize variables for tracking progress during training\n",
    "    iters = 1\n",
    "    avg_cost = np.zeros(maxiters)  # Average training cost per iteration\n",
    "    current_absolute_cost = np.zeros(maxiters)  # Absolute error per iteration\n",
    "    current_delta = np.zeros(maxiters)  # Model update magnitude per iteration\n",
    "\n",
    "    # Map users to indices for efficient lookups\n",
    "    all_users = dat2['usr'].unique()\n",
    "    usr2idx = {user: idx for idx, user in enumerate(all_users)}  # 0-indexing for users\n",
    "\n",
    "    while iters <= maxiters and time.time() - starttime < 60 * maxtime:\n",
    "        # Apply learning rate decay if specified\n",
    "        if learning_rate_decay < 1:\n",
    "            learning_rate *= learning_rate_decay\n",
    "\n",
    "        # Adaptive sampling: adjust ranking and variance for efficient sampling\n",
    "        if adaptive_sampling and iters % int(n_prods * math.log(n_prods)) == 1:\n",
    "            CF_rank = np.argsort(V_prod_user, axis=0)  # CF component ranking\n",
    "            MC_rank = np.argsort(V_next_prev, axis=0)  # MC component ranking\n",
    "            ranks = np.hstack((CF_rank, MC_rank))      # Combined ranking for sampling\n",
    "\n",
    "            CF_var = np.var(V_prod_user, axis=0)       # Variance of CF features\n",
    "            MC_var = np.var(V_next_prev, axis=0)       # Variance of MC features\n",
    "            vars = np.concatenate((CF_var, MC_var))    # Combined variance vector\n",
    "\n",
    "        # Sample a random user and their product sequence\n",
    "        user = np.random.choice(all_users)\n",
    "        user_id = usr2idx[user]\n",
    "        user_prod_ids = dat2[dat2['usr'] == user]['prod_idx'].values\n",
    "\n",
    "        # Randomly select a product pair: previous and true next\n",
    "        rand = np.random.randint(0, len(user_prod_ids) - 1)\n",
    "        prev_prod = user_prod_ids[rand] \n",
    "        true_next = user_prod_ids[rand + 1] \n",
    "\n",
    "        # Generate a false negative sample using adaptive\n",
    "        if adaptive_sampling:\n",
    "            while True:\n",
    "                rank = expon.rvs(scale=sampling_bias)  # Sample rank using exponential distribution\n",
    "                while math.ceil(rank) >= n_prods:\n",
    "                    rank = expon.rvs(scale=sampling_bias)  # Ensure rank is within bounds\n",
    "                factor_signs = np.sign(np.concatenate((V_user_prod[user_id], V_prev_next[prev_prod])))\n",
    "                factor_prob = np.abs(np.concatenate((V_user_prod[user_id], V_prev_next[prev_prod]))) * vars\n",
    "                f = np.random.choice(k_cf + k_mc, p=factor_prob / np.sum(factor_prob))\n",
    "                mult = math.ceil(rank) * factor_signs[f]\n",
    "                if mult < 0:\n",
    "                    mult = mult + n_prods + 1\n",
    "                if int(mult) < len(ranks):\n",
    "                    false_next = ranks[int(mult), f]  # Selected product ID\n",
    "                if false_next != true_next:\n",
    "                    break\n",
    "        else:\n",
    "            false_next = np.random.randint(0, n_prods - 1)\n",
    "            if false_next >= true_next:\n",
    "                false_next += 1\n",
    "\n",
    "        # Compute errors for true and false negative examples\n",
    "        x_true = np.sum(V_user_prod[user_id] * V_prod_user[true_next]) + \\\n",
    "                 np.sum(V_prev_next[prev_prod] * V_next_prev[true_next])\n",
    "        x_false = np.sum(V_user_prod[user_id] * V_prod_user[false_next]) + \\\n",
    "                  np.sum(V_prev_next[prev_prod] * V_next_prev[false_next])\n",
    "        absolute_error = x_false - x_true\n",
    "        delta = 1 - 1 / (1 + math.exp(min(10, max(-10, absolute_error))))\n",
    "\n",
    "        # Update latent factors for CF and MC components using gradient descent\n",
    "        V_user_prod_mem = V_user_prod[user_id].copy()\n",
    "        V_user_prod[user_id] += learning_rate * (delta * (V_prod_user[true_next] - V_prod_user[false_next]) - reg * V_user_prod[user_id])\n",
    "        V_prod_user[true_next] += learning_rate * (delta * V_user_prod_mem - reg * V_prod_user[true_next])\n",
    "        V_prod_user[false_next] += learning_rate * (-delta * V_user_prod_mem - reg * V_prod_user[false_next])\n",
    "\n",
    "        V_prev_next_mem = V_prev_next[prev_prod].copy()\n",
    "        V_prev_next[prev_prod] += learning_rate * (delta * (V_next_prev[true_next] - V_next_prev[false_next]) - reg * V_prev_next[prev_prod])\n",
    "        V_next_prev[true_next] += learning_rate * (delta * V_prev_next_mem - reg * V_next_prev[true_next])\n",
    "        V_next_prev[false_next] += learning_rate * (-delta * V_prev_next_mem - reg * V_next_prev[false_next])\n",
    "\n",
    "        # Track and log progress\n",
    "        current_absolute_cost[iters - 1] = absolute_error\n",
    "        current_delta[iters - 1] = delta\n",
    "        avg_cost[iters - 1] = np.mean(np.concatenate((current_absolute_cost[:iters], [absolute_error])))\n",
    "\n",
    "        iters += 1\n",
    "\n",
    "    # Return trained model parameters and metrics\n",
    "    return {\n",
    "        'avg_cost': avg_cost,\n",
    "        'current_absolute_cost': current_absolute_cost,\n",
    "        'current_delta': current_delta,\n",
    "        'V_user_prod': V_user_prod,\n",
    "        'V_prod_user': V_prod_user,\n",
    "        'V_prev_next': V_prev_next,\n",
    "        'V_next_prev': V_next_prev,\n",
    "        'k_cf': k_cf,\n",
    "        'k_mc': k_mc\n",
    "    }\n"
   ]
  },
  {
   "cell_type": "code",
   "execution_count": 5,
   "metadata": {
    "colab": {
     "base_uri": "https://localhost:8080/"
    },
    "id": "70ZBQ0IqBk-0",
    "outputId": "0f632a3c-5851-4c96-e85f-65c76a6ef580"
   },
   "outputs": [],
   "source": [
    "train_dict = fpmc(train, k_cf=64, k_mc=64,learning_rate=0.02, learning_rate_decay=0.6, maxiters=10000)"
   ]
  },
  {
   "cell_type": "code",
   "execution_count": 6,
   "metadata": {
    "id": "ayGEx_yleV43"
   },
   "outputs": [],
   "source": [
    "# Top-k recommendation function\n",
    "def top_k(dat2, users, V_user_prod, V_prod_user, V_prev_next, V_next_prev,\n",
    "          top_k=10, excluded_prods=None, parallel=False):\n",
    "    \"\"\"\n",
    "    \n",
    "    Parameters:\n",
    "    - dat2: The dataset containing user-product interactions.\n",
    "\n",
    "    - users: List of user identifiers for whom recommendations are to be generated.\n",
    "\n",
    "    - V_user_prod: User-product latent factor matrix (Collaborative Filtering).\n",
    "\n",
    "    - V_prod_user: Product-user latent factor matrix (Collaborative Filtering).\n",
    "\n",
    "    - V_prev_next: Previous-to-next product transition matrix (Markov Chain).\n",
    "\n",
    "    - V_next_prev:  Next-to-previous product transition matrix (Markov Chain).\n",
    "\n",
    "    - top_k: Number of top recommendations to generate for each user.\n",
    "\n",
    "    - excluded_prods: List of product identifiers to exclude from recommendations.\n",
    "\n",
    "    - parallel: If True, process recommendations in parallel using multiple CPU cores.\n",
    "\n",
    "    Returns: \n",
    "        A DataFrame containing the top-k recommendations for each user, with the following columns:\n",
    "        - 'usr': User identifier\n",
    "        - 'usr_idx': User index\n",
    "        - 'prod': Recommended product identifier\n",
    "        - 'prod_idx': Recommended product index\n",
    "        - 'score': Recommendation score\n",
    "    \"\"\"\n",
    "\n",
    "    # Filter the dataset to include only the specified users\n",
    "    dat_trunc = dat2[dat2['usr'].isin(users)]\n",
    "    # Group the data by user for processing\n",
    "    dat_trunc = [group for _, group in dat_trunc.groupby('usr')]\n",
    "\n",
    "    def process_user(x):\n",
    "        \"\"\"\n",
    "        Parameters:\n",
    "        - x: Subset of dat2 containing data for a single user.\n",
    "\n",
    "        Returns:\n",
    "        - Top-k recommendations for the user.\n",
    "        \"\"\"\n",
    "        # Retrieve user ID and associated index\n",
    "        user = x['usr'].iloc[0]\n",
    "        uid = x['usr_idx'].iloc[0]\n",
    "        # Extract the list of products viewed by the user and the last viewed product\n",
    "        viewed_prod_ids = x['prod_idx'].values\n",
    "        last_prod_id = x['prod_idx'].iloc[-1]\n",
    "\n",
    "        # Compute recommendation scores by combining CF and MC components\n",
    "        uid = int(uid) \n",
    "        last_prod_id = int(last_prod_id)  # Ensure proper integer indexing\n",
    "        scores = V_user_prod[uid].dot(V_prod_user.T) + \\\n",
    "                 V_prev_next[last_prod_id].dot(V_next_prev.T)\n",
    "\n",
    "        # Exclude specified products from recommendations, if any\n",
    "        if excluded_prods is not None:\n",
    "            excluded_prod_ids = [prod2idx[prod] for prod in excluded_prods]\n",
    "            scores[excluded_prod_ids] = -np.inf  # Assign very low score to excluded products\n",
    "\n",
    "        # Rank products based on their scores and retrieve the top-k\n",
    "        ranked_prod_ids = np.argsort(scores)[::-1][:top_k]  # Sort in descending order\n",
    "        output = pd.DataFrame({\n",
    "            'usr': [user] * top_k,                       # User identifier repeated for top-k products\n",
    "            'usr_idx': [uid] * top_k,                   # User index repeated for top-k products\n",
    "            'prod': [idx2prod[idx] for idx in ranked_prod_ids],  # Map indices to product identifiers\n",
    "            'prod_idx': ranked_prod_ids,                # Product indices for top-k recommendations\n",
    "            'score': scores[ranked_prod_ids]            # Scores corresponding to top-k products\n",
    "        })\n",
    "        return output\n",
    "\n",
    "    # Process all users' data in parallel or sequentially\n",
    "    if parallel:\n",
    "        recommend = Parallel(n_jobs=cpu_count()-1)(delayed(process_user)(x) for x in dat_trunc)\n",
    "    else:\n",
    "        recommend = [process_user(x) for x in dat_trunc]\n",
    "\n",
    "    # Combine recommendations for all users into a single DataFrame\n",
    "    return pd.concat(recommend, ignore_index=True)\n"
   ]
  },
  {
   "cell_type": "code",
   "execution_count": 7,
   "metadata": {
    "id": "pHY9GpReuR_u"
   },
   "outputs": [],
   "source": [
    "# Helper function to find if a user buys any item in our predicted set\n",
    "def hr_calculater(data, usr, k):\n",
    "    pred_df = top_k(data, [usr], train_dict['V_user_prod'], train_dict['V_prod_user'], train_dict['V_prev_next'], train_dict['V_next_prev'],\n",
    "          top_k=k, excluded_prods=None, parallel=False)\n",
    "    set_pred = set(pred_df['prod_idx'])\n",
    "    set_true = set(data[data['usr'] == usr]['prod_idx'])\n",
    "    num_correct = len(set_true.intersection(set_pred))\n",
    "    return 1 if num_correct > 0 else 0"
   ]
  },
  {
   "cell_type": "code",
   "execution_count": 8,
   "metadata": {
    "colab": {
     "base_uri": "https://localhost:8080/"
    },
    "id": "beklsOREjypU",
    "outputId": "5a05b011-7f85-4d60-dc3b-a3ceb2380c13"
   },
   "outputs": [
    {
     "name": "stdout",
     "output_type": "stream",
     "text": [
      "HR@15 is  0.3\n"
     ]
    }
   ],
   "source": [
    "# Find HR@15\n",
    "hit_num = 0\n",
    "test_lst = list(set(train['usr'].unique()).intersection(set(test['usr'].unique())))\n",
    "for usr in test_lst:\n",
    "    hit_num += hr_calculater(test, usr, 15)\n",
    "print(\"HR@15 is \", hit_num/len(test_lst))"
   ]
  },
  {
   "cell_type": "code",
   "execution_count": 9,
   "metadata": {
    "colab": {
     "base_uri": "https://localhost:8080/"
    },
    "id": "cpL0U34Is4Z6",
    "outputId": "f2a1d1c8-5744-44c5-cf99-3801de8a742c"
   },
   "outputs": [
    {
     "name": "stdout",
     "output_type": "stream",
     "text": [
      "HR@10 is  0.2\n"
     ]
    }
   ],
   "source": [
    "# Find HR@10\n",
    "hit_num = 0\n",
    "for usr in test_lst:\n",
    "    hit_num += hr_calculater(test, usr, 10)\n",
    "print(\"HR@10 is \", hit_num/len(test_lst))"
   ]
  },
  {
   "cell_type": "code",
   "execution_count": 10,
   "metadata": {
    "colab": {
     "base_uri": "https://localhost:8080/"
    },
    "id": "7g3T73oLvz1W",
    "outputId": "d4ba3167-9942-4d9d-f1a3-5355ca040dd9"
   },
   "outputs": [
    {
     "name": "stdout",
     "output_type": "stream",
     "text": [
      "HR@5 is  0.1\n"
     ]
    }
   ],
   "source": [
    "# Find HR@5\n",
    "hit_num = 0\n",
    "for usr in test_lst:\n",
    "    hit_num += hr_calculater(test, usr, 5)\n",
    "print(\"HR@5 is \", hit_num/len(test_lst))"
   ]
  },
  {
   "cell_type": "code",
   "execution_count": 11,
   "metadata": {},
   "outputs": [
    {
     "name": "stdout",
     "output_type": "stream",
     "text": [
      "NDCG@10 is 0.1333\n"
     ]
    }
   ],
   "source": [
    "# Find NDCG@10\n",
    "true_relevance, predicted_scores = [], []\n",
    "for usr in test_lst:\n",
    "    pred_df = top_k(test, [usr], train_dict['V_user_prod'], train_dict['V_prod_user'], train_dict['V_prev_next'], train_dict['V_next_prev'],\n",
    "            top_k=10, excluded_prods=None, parallel=False)\n",
    "    set_pred = list(pred_df['prod_idx'])\n",
    "    set_true = list(test[test['usr'] == usr]['prod_idx']) \n",
    "    cur_relevance = [1 if item in set_true else 0 for item in set_pred]\n",
    "    pred_scores = list(pred_df[pred_df['usr'] == usr]['score'])\n",
    "    true_relevance.append(cur_relevance)\n",
    "    predicted_scores.append(pred_scores)\n",
    "\n",
    "# Calculate NDCG@10\n",
    "ndcg = ndcg_score(true_relevance, predicted_scores, k=10)\n",
    "print(f\"NDCG@10 is {ndcg:.4f}\")"
   ]
  },
  {
   "cell_type": "markdown",
   "metadata": {},
   "source": [
    "# Visualizations"
   ]
  },
  {
   "cell_type": "markdown",
   "metadata": {},
   "source": [
    "### HR@15"
   ]
  },
  {
   "cell_type": "code",
   "execution_count": 12,
   "metadata": {},
   "outputs": [
    {
     "data": {
      "image/png": "[encoded data removed]",
      "text/plain": [
       "<Figure size 576x432 with 1 Axes>"
      ]
     },
     "metadata": {
      "needs_background": "light"
     },
     "output_type": "display_data"
    }
   ],
   "source": [
    "dimensionality = [32, 64, 128]\n",
    "hr_values = []\n",
    "\n",
    "for dimension in dimensionality:\n",
    "    train_dict = fpmc(train, k_cf=dimension, k_mc=dimension,learning_rate=0.02, learning_rate_decay=0.6, maxiters=10000) \n",
    "    hit_num = 0\n",
    "    test_lst = list(set(train['usr'].unique()).intersection(set(test['usr'].unique())))\n",
    "    for usr in test_lst:\n",
    "        hit_num += hr_calculater(test, usr, 15)\n",
    "    hr_values.append(hit_num/len(test_lst))\n",
    "\n",
    "# Create a plot\n",
    "plt.figure(figsize=(8, 6))\n",
    "plt.plot(dimensionality, hr_values, marker='o', label='HR@15', color='red', linewidth=2)\n",
    "\n",
    "# Customizing the plot\n",
    "plt.title(\"Dimensionality vs HR@15\", fontsize=14)\n",
    "plt.xlabel(\"Dimensionality\", fontsize=12)\n",
    "plt.ylabel(\"HR@15\", fontsize=12)\n",
    "plt.xticks(dimensionality, fontsize=10)\n",
    "plt.yticks(fontsize=10)\n",
    "plt.grid(axis='y', linestyle='--', alpha=0.7)\n",
    "plt.legend(fontsize=10)\n",
    "plt.tight_layout()\n",
    "\n",
    "# Display the plot\n",
    "plt.show()"
   ]
  },
  {
   "cell_type": "markdown",
   "metadata": {},
   "source": [
    "### HR@10"
   ]
  },
  {
   "cell_type": "code",
   "execution_count": 13,
   "metadata": {},
   "outputs": [
    {
     "data": {
      "image/png": "[encoded data removed]",
      "text/plain": [
       "<Figure size 576x432 with 1 Axes>"
      ]
     },
     "metadata": {
      "needs_background": "light"
     },
     "output_type": "display_data"
    }
   ],
   "source": [
    "dimensionality = [32, 64, 128]\n",
    "hr_values = []\n",
    "\n",
    "for dimension in dimensionality:\n",
    "    train_dict = fpmc(train, k_cf=dimension, k_mc=dimension,learning_rate=0.02, learning_rate_decay=0.6, maxiters=10000) \n",
    "    hit_num = 0\n",
    "    test_lst = list(set(train['usr'].unique()).intersection(set(test['usr'].unique())))\n",
    "    for usr in test_lst:\n",
    "        hit_num += hr_calculater(test, usr, 10)\n",
    "    hr_values.append(hit_num/len(test_lst))\n",
    "\n",
    "# Create a plot\n",
    "plt.figure(figsize=(8, 6))\n",
    "plt.plot(dimensionality, hr_values, marker='o', label='HR@10', color='red', linewidth=2)\n",
    "\n",
    "# Customizing the plot\n",
    "plt.title(\"Dimensionality vs HR@10\", fontsize=14)\n",
    "plt.xlabel(\"Dimensionality\", fontsize=12)\n",
    "plt.ylabel(\"HR@10\", fontsize=12)\n",
    "plt.xticks(dimensionality, fontsize=10)\n",
    "plt.yticks(fontsize=10)\n",
    "plt.grid(axis='y', linestyle='--', alpha=0.7)\n",
    "plt.legend(fontsize=10)\n",
    "plt.tight_layout()\n",
    "\n",
    "# Display the plot\n",
    "plt.show()"
   ]
  },
  {
   "cell_type": "markdown",
   "metadata": {},
   "source": [
    "### HR@5"
   ]
  },
  {
   "cell_type": "code",
   "execution_count": 14,
   "metadata": {},
   "outputs": [
    {
     "data": {
      "image/png": "[encoded data removed]",
      "text/plain": [
       "<Figure size 576x432 with 1 Axes>"
      ]
     },
     "metadata": {
      "needs_background": "light"
     },
     "output_type": "display_data"
    }
   ],
   "source": [
    "dimensionality = [32, 64, 128]\n",
    "hr_values = []\n",
    "\n",
    "for dimension in dimensionality:\n",
    "    train_dict = fpmc(train, k_cf=dimension, k_mc=dimension,learning_rate=0.02, learning_rate_decay=0.6, maxiters=10000) \n",
    "    hit_num = 0\n",
    "    test_lst = list(set(train['usr'].unique()).intersection(set(test['usr'].unique())))\n",
    "    for usr in test_lst:\n",
    "        hit_num += hr_calculater(test, usr, 5)\n",
    "    hr_values.append(hit_num/len(test_lst))\n",
    "\n",
    "# Create a plot\n",
    "plt.figure(figsize=(8, 6))\n",
    "plt.plot(dimensionality, hr_values, marker='o', label='HR@5', color='red', linewidth=2)\n",
    "\n",
    "# Customizing the plot\n",
    "plt.title(\"Dimensionality vs HR@5\", fontsize=14)\n",
    "plt.xlabel(\"Dimensionality\", fontsize=12)\n",
    "plt.ylabel(\"HR@5\", fontsize=12)\n",
    "plt.xticks(dimensionality, fontsize=10)\n",
    "plt.yticks(fontsize=10)\n",
    "plt.grid(axis='y', linestyle='--', alpha=0.7)\n",
    "plt.legend(fontsize=10)\n",
    "plt.tight_layout()\n",
    "\n",
    "# Display the plot\n",
    "plt.show()"
   ]
  },
  {
   "cell_type": "markdown",
   "metadata": {},
   "source": [
    "### NDCG@10"
   ]
  },
  {
   "cell_type": "code",
   "execution_count": 15,
   "metadata": {},
   "outputs": [
    {
     "data": {
      "image/png": "[encoded data removed]",
      "text/plain": [
       "<Figure size 576x432 with 1 Axes>"
      ]
     },
     "metadata": {
      "needs_background": "light"
     },
     "output_type": "display_data"
    }
   ],
   "source": [
    "dimensionality = [32, 64, 128]\n",
    "ndcg_values = []\n",
    "\n",
    "for dimension in dimensionality:\n",
    "    train_dict = fpmc(train, k_cf=dimension, k_mc=dimension,learning_rate=0.02, learning_rate_decay=0.6, maxiters=10000)\n",
    "    true_relevance, predicted_scores = [], []\n",
    "    for usr in test_lst:\n",
    "        pred_df = top_k(test, [usr], train_dict['V_user_prod'], train_dict['V_prod_user'], train_dict['V_prev_next'], train_dict['V_next_prev'],\n",
    "                top_k=10, excluded_prods=None, parallel=False)\n",
    "        set_pred = list(pred_df['prod_idx'])\n",
    "        set_true = list(test[test['usr'] == usr]['prod_idx']) \n",
    "        cur_relevance = [1 if item in set_true else 0 for item in set_pred]\n",
    "        pred_scores = list(pred_df[pred_df['usr'] == usr]['score'])\n",
    "        true_relevance.append(cur_relevance)\n",
    "        predicted_scores.append(pred_scores)\n",
    "    ndcg = ndcg_score(true_relevance, predicted_scores, k=10)\n",
    "    ndcg_values.append(ndcg)\n",
    "\n",
    "# Create a plot\n",
    "plt.figure(figsize=(8, 6))\n",
    "plt.plot(dimensionality, ndcg_values, marker='o', label='NDCG@10', color='red', linewidth=2)\n",
    "\n",
    "# Customizing the plot\n",
    "plt.title(\"Dimensionality vs NDCG@10\", fontsize=14)\n",
    "plt.xlabel(\"Dimensionality\", fontsize=12)\n",
    "plt.ylabel(\"HR@5\", fontsize=12)\n",
    "plt.xticks(dimensionality, fontsize=10)\n",
    "plt.yticks(fontsize=10)\n",
    "plt.grid(axis='y', linestyle='--', alpha=0.7)\n",
    "plt.legend(fontsize=10)\n",
    "plt.tight_layout()\n",
    "\n",
    "# Display the plot\n",
    "plt.show()"
   ]
  },
  {
   "cell_type": "code",
   "execution_count": null,
   "metadata": {},
   "outputs": [],
   "source": []
  }
 ],
 "metadata": {
  "colab": {
   "provenance": []
  },
  "kernelspec": {
   "display_name": "base",
   "language": "python",
   "name": "python3"
  },
  "language_info": {
   "codemirror_mode": {
    "name": "ipython",
    "version": 3
   },
   "file_extension": ".py",
   "mimetype": "text/x-python",
   "name": "python",
   "nbconvert_exporter": "python",
   "pygments_lexer": "ipython3",
   "version": "3.9.7"
  }
 },
 "nbformat": 4,
 "nbformat_minor": 0
}
