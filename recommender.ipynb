{
 "cells": [
  {
   "cell_type": "code",
   "execution_count": 1,
   "id": "45cf95f1",
   "metadata": {},
   "outputs": [],
   "source": [
    "import numpy as np\n",
    "import os\n",
    "import warnings\n"
   ]
  },
  {
   "cell_type": "code",
   "execution_count": 2,
   "id": "5e478ef6",
   "metadata": {},
   "outputs": [
    {
     "name": "stdout",
     "output_type": "stream",
     "text": [
      "/Users/mizuho/Desktop/DSC210/Recommender_System_Algorithms/SASRec\n",
      "average sequence length: 7.42\n",
      "\n",
      "A module that was compiled using NumPy 1.x cannot be run in\n",
      "NumPy 2.1.3 as it may crash. To support both 1.x and 2.x\n",
      "versions of NumPy, modules must be compiled with NumPy 2.0.\n",
      "Some module may need to rebuild instead e.g. with 'pybind11>=2.12'.\n",
      "\n",
      "If you are a user of the module, the easiest solution will be to\n",
      "downgrade to 'numpy<2' or try to upgrade the affected module.\n",
      "We expect that some modules will need time to support NumPy 2.\n",
      "\n",
      "Traceback (most recent call last):  File \"/Users/mizuho/Desktop/DSC210/Recommender_System_Algorithms/SASRec/main.py\", line 57, in <module>\n",
      "    model = SASRec(usernum, itemnum, args).to(args.device)\n",
      "  File \"/Users/mizuho/Desktop/DSC210/Recommender_System_Algorithms/SASRec/model.py\", line 28, in __init__\n",
      "    self.item_emb = torch.nn.Embedding(self.item_num + 1, args.hidden_units, padding_idx=0)\n",
      "  File \"/Users/mizuho/anaconda3/lib/python3.11/site-packages/torch/nn/modules/sparse.py\", line 142, in __init__\n",
      "    self.weight = Parameter(torch.empty((num_embeddings, embedding_dim), **factory_kwargs),\n",
      "/Users/mizuho/anaconda3/lib/python3.11/site-packages/torch/nn/modules/sparse.py:142: UserWarning: Failed to initialize NumPy: _ARRAY_API not found (Triggered internally at /private/var/folders/nz/j6p8yfhx1mv_0grj5xl4650h0000gp/T/abs_1aidzjezue/croot/pytorch_1687856425340/work/torch/csrc/utils/tensor_numpy.cpp:84.)\n",
      "  self.weight = Parameter(torch.empty((num_embeddings, embedding_dim), **factory_kwargs),\n",
      "..........test (NDCG@10: 0.2765, HR@5: 0.3128, HR@10: 0.3813)\n",
      "Done\n",
      "/Users/mizuho/Desktop/DSC210/Recommender_System_Algorithms\n"
     ]
    }
   ],
   "source": [
    "# Please ignore any warnings. \n",
    "# They are caused by NumPy and PyTorch version issues that do not affect the model prediction.\n",
    "\n",
    "%cd SASRec\n",
    "!python main.py --device=cpu --dataset=beauty23 --train_dir=default --state_dict_path='beauty23_default/SASRec.epoch=1000.lr=0.001.layer=2.head=1.hidden=50.maxlen=50.pth' --inference_only=true --maxlen=50\n",
    "%cd ../"
   ]
  },
  {
   "cell_type": "code",
   "execution_count": null,
   "id": "b316a132",
   "metadata": {},
   "outputs": [],
   "source": []
  }
 ],
 "metadata": {
  "kernelspec": {
   "display_name": "Python 3 (ipykernel)",
   "language": "python",
   "name": "python3"
  },
  "language_info": {
   "codemirror_mode": {
    "name": "ipython",
    "version": 3
   },
   "file_extension": ".py",
   "mimetype": "text/x-python",
   "name": "python",
   "nbconvert_exporter": "python",
   "pygments_lexer": "ipython3",
   "version": "3.11.4"
  }
 },
 "nbformat": 4,
 "nbformat_minor": 5
}
