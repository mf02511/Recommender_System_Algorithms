{
 "cells": [
  {
   "cell_type": "code",
   "execution_count": 1,
   "id": "c2cda37b",
   "metadata": {},
   "outputs": [],
   "source": [
    "import pandas as pd\n",
    "import matplotlib.pyplot as plt"
   ]
  },
  {
   "cell_type": "code",
   "execution_count": 2,
   "id": "ea9d2395",
   "metadata": {},
   "outputs": [
    {
     "data": {
      "text/html": [
       "<div>\n",
       "<style scoped>\n",
       "    .dataframe tbody tr th:only-of-type {\n",
       "        vertical-align: middle;\n",
       "    }\n",
       "\n",
       "    .dataframe tbody tr th {\n",
       "        vertical-align: top;\n",
       "    }\n",
       "\n",
       "    .dataframe thead th {\n",
       "        text-align: right;\n",
       "    }\n",
       "</style>\n",
       "<table border=\"1\" class=\"dataframe\">\n",
       "  <thead>\n",
       "    <tr style=\"text-align: right;\">\n",
       "      <th></th>\n",
       "      <th>usr</th>\n",
       "      <th>prod</th>\n",
       "    </tr>\n",
       "  </thead>\n",
       "  <tbody>\n",
       "    <tr>\n",
       "      <th>0</th>\n",
       "      <td>AFSKPY37N3C43SOI5IEXEK5JSIYA</td>\n",
       "      <td>B08P2DZB4X</td>\n",
       "    </tr>\n",
       "    <tr>\n",
       "      <th>1</th>\n",
       "      <td>AFSKPY37N3C43SOI5IEXEK5JSIYA</td>\n",
       "      <td>B086QY6T7N</td>\n",
       "    </tr>\n",
       "    <tr>\n",
       "      <th>2</th>\n",
       "      <td>AFSKPY37N3C43SOI5IEXEK5JSIYA</td>\n",
       "      <td>B07RBSLNFR</td>\n",
       "    </tr>\n",
       "    <tr>\n",
       "      <th>3</th>\n",
       "      <td>AFSKPY37N3C43SOI5IEXEK5JSIYA</td>\n",
       "      <td>B07SLFWZKN</td>\n",
       "    </tr>\n",
       "    <tr>\n",
       "      <th>4</th>\n",
       "      <td>AFSKPY37N3C43SOI5IEXEK5JSIYA</td>\n",
       "      <td>B08JTNQFZY</td>\n",
       "    </tr>\n",
       "    <tr>\n",
       "      <th>...</th>\n",
       "      <td>...</td>\n",
       "      <td>...</td>\n",
       "    </tr>\n",
       "    <tr>\n",
       "      <th>9484</th>\n",
       "      <td>AEUGNUJOAKJNWDHART2SX6VBTJ6A</td>\n",
       "      <td>B07PX9J8YJ</td>\n",
       "    </tr>\n",
       "    <tr>\n",
       "      <th>9485</th>\n",
       "      <td>AEUGNUJOAKJNWDHART2SX6VBTJ6A</td>\n",
       "      <td>B07PX9J8YJ</td>\n",
       "    </tr>\n",
       "    <tr>\n",
       "      <th>9486</th>\n",
       "      <td>AEUGNUJOAKJNWDHART2SX6VBTJ6A</td>\n",
       "      <td>B07PX9J8YJ</td>\n",
       "    </tr>\n",
       "    <tr>\n",
       "      <th>9487</th>\n",
       "      <td>AEUGNUJOAKJNWDHART2SX6VBTJ6A</td>\n",
       "      <td>B07PX9J8YJ</td>\n",
       "    </tr>\n",
       "    <tr>\n",
       "      <th>9488</th>\n",
       "      <td>AEUGNUJOAKJNWDHART2SX6VBTJ6A</td>\n",
       "      <td>B07PX9J8YJ</td>\n",
       "    </tr>\n",
       "  </tbody>\n",
       "</table>\n",
       "<p>9489 rows × 2 columns</p>\n",
       "</div>"
      ],
      "text/plain": [
       "                               usr        prod\n",
       "0     AFSKPY37N3C43SOI5IEXEK5JSIYA  B08P2DZB4X\n",
       "1     AFSKPY37N3C43SOI5IEXEK5JSIYA  B086QY6T7N\n",
       "2     AFSKPY37N3C43SOI5IEXEK5JSIYA  B07RBSLNFR\n",
       "3     AFSKPY37N3C43SOI5IEXEK5JSIYA  B07SLFWZKN\n",
       "4     AFSKPY37N3C43SOI5IEXEK5JSIYA  B08JTNQFZY\n",
       "...                            ...         ...\n",
       "9484  AEUGNUJOAKJNWDHART2SX6VBTJ6A  B07PX9J8YJ\n",
       "9485  AEUGNUJOAKJNWDHART2SX6VBTJ6A  B07PX9J8YJ\n",
       "9486  AEUGNUJOAKJNWDHART2SX6VBTJ6A  B07PX9J8YJ\n",
       "9487  AEUGNUJOAKJNWDHART2SX6VBTJ6A  B07PX9J8YJ\n",
       "9488  AEUGNUJOAKJNWDHART2SX6VBTJ6A  B07PX9J8YJ\n",
       "\n",
       "[9489 rows x 2 columns]"
      ]
     },
     "execution_count": 2,
     "metadata": {},
     "output_type": "execute_result"
    }
   ],
   "source": [
    "pd.read_csv('data/beauty23_clean.csv')"
   ]
  },
  {
   "cell_type": "code",
   "execution_count": null,
   "id": "f599bb21",
   "metadata": {},
   "outputs": [],
   "source": []
  }
 ],
 "metadata": {
  "kernelspec": {
   "display_name": "Python 3 (ipykernel)",
   "language": "python",
   "name": "python3"
  },
  "language_info": {
   "codemirror_mode": {
    "name": "ipython",
    "version": 3
   },
   "file_extension": ".py",
   "mimetype": "text/x-python",
   "name": "python",
   "nbconvert_exporter": "python",
   "pygments_lexer": "ipython3",
   "version": "3.11.4"
  }
 },
 "nbformat": 4,
 "nbformat_minor": 5
}
