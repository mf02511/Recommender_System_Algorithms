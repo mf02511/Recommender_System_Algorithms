{
 "cells": [
  {
   "cell_type": "markdown",
   "id": "d277b6c6",
   "metadata": {},
   "source": [
    "## Data Preprocessing\n",
    "\n",
    "Converting cleaned data into the correct format for the SASRec model"
   ]
  },
  {
   "cell_type": "code",
   "execution_count": 1,
   "id": "faaf4401",
   "metadata": {},
   "outputs": [],
   "source": [
    "import pandas as pd\n",
    "import numpy as np"
   ]
  },
  {
   "cell_type": "code",
   "execution_count": 2,
   "id": "b16845fe",
   "metadata": {
    "scrolled": true
   },
   "outputs": [
    {
     "data": {
      "text/html": [
       "<div>\n",
       "<style scoped>\n",
       "    .dataframe tbody tr th:only-of-type {\n",
       "        vertical-align: middle;\n",
       "    }\n",
       "\n",
       "    .dataframe tbody tr th {\n",
       "        vertical-align: top;\n",
       "    }\n",
       "\n",
       "    .dataframe thead th {\n",
       "        text-align: right;\n",
       "    }\n",
       "</style>\n",
       "<table border=\"1\" class=\"dataframe\">\n",
       "  <thead>\n",
       "    <tr style=\"text-align: right;\">\n",
       "      <th></th>\n",
       "      <th>usr</th>\n",
       "      <th>prod</th>\n",
       "    </tr>\n",
       "  </thead>\n",
       "  <tbody>\n",
       "    <tr>\n",
       "      <th>0</th>\n",
       "      <td>AFSKPY37N3C43SOI5IEXEK5JSIYA</td>\n",
       "      <td>B00JMDPK8S</td>\n",
       "    </tr>\n",
       "    <tr>\n",
       "      <th>1</th>\n",
       "      <td>AFSKPY37N3C43SOI5IEXEK5JSIYA</td>\n",
       "      <td>B01M7UMAUG</td>\n",
       "    </tr>\n",
       "    <tr>\n",
       "      <th>2</th>\n",
       "      <td>AFSKPY37N3C43SOI5IEXEK5JSIYA</td>\n",
       "      <td>B07J3GH1W1</td>\n",
       "    </tr>\n",
       "    <tr>\n",
       "      <th>3</th>\n",
       "      <td>AFSKPY37N3C43SOI5IEXEK5JSIYA</td>\n",
       "      <td>B07GDQPG12</td>\n",
       "    </tr>\n",
       "    <tr>\n",
       "      <th>4</th>\n",
       "      <td>AFSKPY37N3C43SOI5IEXEK5JSIYA</td>\n",
       "      <td>B07W397QG4</td>\n",
       "    </tr>\n",
       "  </tbody>\n",
       "</table>\n",
       "</div>"
      ],
      "text/plain": [
       "                            usr        prod\n",
       "0  AFSKPY37N3C43SOI5IEXEK5JSIYA  B00JMDPK8S\n",
       "1  AFSKPY37N3C43SOI5IEXEK5JSIYA  B01M7UMAUG\n",
       "2  AFSKPY37N3C43SOI5IEXEK5JSIYA  B07J3GH1W1\n",
       "3  AFSKPY37N3C43SOI5IEXEK5JSIYA  B07GDQPG12\n",
       "4  AFSKPY37N3C43SOI5IEXEK5JSIYA  B07W397QG4"
      ]
     },
     "execution_count": 2,
     "metadata": {},
     "output_type": "execute_result"
    }
   ],
   "source": [
    "# read in cleaned Amazon beauty data\n",
    "# product interactions are already sorted in temporal order\n",
    "beauty = pd.read_csv('../assets/beauty23_clean.csv')\n",
    "beauty.head()"
   ]
  },
  {
   "cell_type": "code",
   "execution_count": 3,
   "id": "035d91f3",
   "metadata": {
    "scrolled": true
   },
   "outputs": [
    {
     "data": {
      "text/html": [
       "<div>\n",
       "<style scoped>\n",
       "    .dataframe tbody tr th:only-of-type {\n",
       "        vertical-align: middle;\n",
       "    }\n",
       "\n",
       "    .dataframe tbody tr th {\n",
       "        vertical-align: top;\n",
       "    }\n",
       "\n",
       "    .dataframe thead th {\n",
       "        text-align: right;\n",
       "    }\n",
       "</style>\n",
       "<table border=\"1\" class=\"dataframe\">\n",
       "  <thead>\n",
       "    <tr style=\"text-align: right;\">\n",
       "      <th></th>\n",
       "      <th>usr</th>\n",
       "      <th>prod</th>\n",
       "    </tr>\n",
       "  </thead>\n",
       "  <tbody>\n",
       "    <tr>\n",
       "      <th>0</th>\n",
       "      <td>1</td>\n",
       "      <td>1</td>\n",
       "    </tr>\n",
       "    <tr>\n",
       "      <th>1</th>\n",
       "      <td>1</td>\n",
       "      <td>2</td>\n",
       "    </tr>\n",
       "    <tr>\n",
       "      <th>2</th>\n",
       "      <td>1</td>\n",
       "      <td>3</td>\n",
       "    </tr>\n",
       "    <tr>\n",
       "      <th>3</th>\n",
       "      <td>1</td>\n",
       "      <td>4</td>\n",
       "    </tr>\n",
       "    <tr>\n",
       "      <th>4</th>\n",
       "      <td>1</td>\n",
       "      <td>5</td>\n",
       "    </tr>\n",
       "  </tbody>\n",
       "</table>\n",
       "</div>"
      ],
      "text/plain": [
       "   usr  prod\n",
       "0    1     1\n",
       "1    1     2\n",
       "2    1     3\n",
       "3    1     4\n",
       "4    1     5"
      ]
     },
     "execution_count": 3,
     "metadata": {},
     "output_type": "execute_result"
    }
   ],
   "source": [
    "# assign integer identifier to users\n",
    "usr_ind = beauty.groupby('usr', sort=False).count()\n",
    "usr_ind = usr_ind.assign(ind_usr=np.arange(1,usr_ind.shape[0]+1))['ind_usr']\n",
    "usr_ind\n",
    "\n",
    "# assign integer identifier to products\n",
    "prod_ind = beauty.groupby('prod', sort=False).count()\n",
    "prod_ind = prod_ind.assign(ind_prod=np.arange(1,prod_ind.shape[0]+1))['ind_prod']\n",
    "\n",
    "df = beauty.merge(usr_ind, left_on='usr', right_index=True)\n",
    "df = df.merge(prod_ind, left_on='prod', right_index=True, sort=False)\n",
    "df = df[['ind_usr', 'ind_prod']]\n",
    "df.columns = ['usr', 'prod']\n",
    "df.head()"
   ]
  },
  {
   "cell_type": "code",
   "execution_count": 4,
   "id": "8102308e",
   "metadata": {},
   "outputs": [],
   "source": [
    "# # save to txt file\n",
    "df.to_csv('beauty23.txt', index=False, header=False)"
   ]
  },
  {
   "cell_type": "markdown",
   "id": "13593fd4",
   "metadata": {},
   "source": [
    "## Training\n",
    "\n",
    "The Training was completed in a GPU environment with the following parameters:"
   ]
  },
  {
   "cell_type": "code",
   "execution_count": 5,
   "id": "b4ad9837",
   "metadata": {},
   "outputs": [],
   "source": [
    "### training ###\n",
    "\n",
    "\n",
    "# # hidden_units = 32\n",
    "\n",
    "# !python main.py \\\n",
    "# --dataset=beauty23 \\\n",
    "# --train_dir=hidden32 \\\n",
    "# --hidden_units=32 \\\n",
    "# --maxlen=50 \\\n",
    "# --dropout_rate=0.5 \\\n",
    "# --device=cuda\n",
    "\n",
    "\n",
    "# # hidden_units = 64\n",
    "\n",
    "# !python main.py \\\n",
    "# --dataset=beauty23 \\\n",
    "# --train_dir=hidden64 \\\n",
    "# --hidden_units=64 \\\n",
    "# --maxlen=50 \\\n",
    "# --dropout_rate=0.5 \\\n",
    "# --device=cuda\n",
    "\n",
    "\n",
    "# # hidden_units = 128\n",
    "\n",
    "# !python main.py \\\n",
    "# --dataset=beauty23 \\\n",
    "# --train_dir=hidden128 \\\n",
    "# --hidden_units=128 \\\n",
    "# --maxlen=50 \\\n",
    "# --dropout_rate=0.5 \\\n",
    "# --device=cuda"
   ]
  },
  {
   "cell_type": "markdown",
   "id": "0e53d7ff",
   "metadata": {},
   "source": [
    "## Testing\n",
    "\n",
    "The below cells will test the trained SASRec models on the test set."
   ]
  },
  {
   "cell_type": "code",
   "execution_count": 6,
   "id": "3291dd3a",
   "metadata": {},
   "outputs": [
    {
     "name": "stdout",
     "output_type": "stream",
     "text": [
      "average sequence length: 7.42\n",
      "..........test (NDCG@10: 0.3148, HR@5: 0.3505, HR@10: 0.4479)\n",
      "Done\n"
     ]
    }
   ],
   "source": [
    "# test SASRec with hidden_units=32\n",
    "\n",
    "!python main.py \\\n",
    "--device=cpu \\\n",
    "--dataset=beauty23 \\\n",
    "--train_dir=hidden32 \\\n",
    "--state_dict_path='beauty23_hidden32/SASRec.epoch=1000.lr=0.001.layer=2.head=1.hidden=32.maxlen=50.pth' \\\n",
    "--inference_only=true \\\n",
    "--maxlen=50 \\\n",
    "--hidden_units=32 \\\n",
    "--dropout_rate=0.5\n"
   ]
  },
  {
   "cell_type": "code",
   "execution_count": 7,
   "id": "54763753",
   "metadata": {},
   "outputs": [
    {
     "name": "stdout",
     "output_type": "stream",
     "text": [
      "average sequence length: 7.42\n",
      "..........test (NDCG@10: 0.3072, HR@5: 0.3525, HR@10: 0.4270)\n",
      "Done\n"
     ]
    }
   ],
   "source": [
    "# test SASRec with hidden_units=64\n",
    "\n",
    "!python main.py \\\n",
    "--device=cpu \\\n",
    "--dataset=beauty23 \\\n",
    "--train_dir=hidden64 \\\n",
    "--state_dict_path='beauty23_hidden64/SASRec.epoch=1000.lr=0.001.layer=2.head=1.hidden=64.maxlen=50.pth' \\\n",
    "--inference_only=true \\\n",
    "--maxlen=50 \\\n",
    "--hidden_units=64 \\\n",
    "--dropout_rate=0.5\n"
   ]
  },
  {
   "cell_type": "code",
   "execution_count": 8,
   "id": "65a5a4ff",
   "metadata": {},
   "outputs": [
    {
     "name": "stdout",
     "output_type": "stream",
     "text": [
      "average sequence length: 7.42\n",
      "..........test (NDCG@10: 0.2760, HR@5: 0.3078, HR@10: 0.3813)\n",
      "Done\n"
     ]
    }
   ],
   "source": [
    "# test SASRec with hidden_units=128\n",
    "\n",
    "!python main.py \\\n",
    "--device=cpu \\\n",
    "--dataset=beauty23 \\\n",
    "--train_dir=hidden128 \\\n",
    "--state_dict_path='beauty23_hidden128/SASRec.epoch=1000.lr=0.001.layer=2.head=1.hidden=128.maxlen=50.pth' \\\n",
    "--inference_only=true \\\n",
    "--maxlen=50 \\\n",
    "--hidden_units=128 \\\n",
    "--dropout_rate=0.5\n"
   ]
  },
  {
   "cell_type": "markdown",
   "id": "690631a9",
   "metadata": {},
   "source": [
    "### Results\n",
    "Visualizing performance of the three models:"
   ]
  },
  {
   "cell_type": "code",
   "execution_count": 9,
   "id": "a9077eac",
   "metadata": {},
   "outputs": [],
   "source": [
    "import matplotlib.pyplot as plt"
   ]
  },
  {
   "cell_type": "code",
   "execution_count": 12,
   "id": "4b8c66a9",
   "metadata": {},
   "outputs": [
    {
     "data": {
      "text/html": [
       "<div>\n",
       "<style scoped>\n",
       "    .dataframe tbody tr th:only-of-type {\n",
       "        vertical-align: middle;\n",
       "    }\n",
       "\n",
       "    .dataframe tbody tr th {\n",
       "        vertical-align: top;\n",
       "    }\n",
       "\n",
       "    .dataframe thead th {\n",
       "        text-align: right;\n",
       "    }\n",
       "</style>\n",
       "<table border=\"1\" class=\"dataframe\">\n",
       "  <thead>\n",
       "    <tr style=\"text-align: right;\">\n",
       "      <th></th>\n",
       "      <th>NDCG@10</th>\n",
       "      <th>HR@5</th>\n",
       "      <th>HR@10</th>\n",
       "    </tr>\n",
       "    <tr>\n",
       "      <th>dim</th>\n",
       "      <th></th>\n",
       "      <th></th>\n",
       "      <th></th>\n",
       "    </tr>\n",
       "  </thead>\n",
       "  <tbody>\n",
       "    <tr>\n",
       "      <th>32</th>\n",
       "      <td>0.3148</td>\n",
       "      <td>0.3505</td>\n",
       "      <td>0.4479</td>\n",
       "    </tr>\n",
       "    <tr>\n",
       "      <th>64</th>\n",
       "      <td>0.3072</td>\n",
       "      <td>0.3525</td>\n",
       "      <td>0.4270</td>\n",
       "    </tr>\n",
       "    <tr>\n",
       "      <th>128</th>\n",
       "      <td>0.2760</td>\n",
       "      <td>0.3078</td>\n",
       "      <td>0.3813</td>\n",
       "    </tr>\n",
       "  </tbody>\n",
       "</table>\n",
       "</div>"
      ],
      "text/plain": [
       "     NDCG@10    HR@5   HR@10\n",
       "dim                         \n",
       "32    0.3148  0.3505  0.4479\n",
       "64    0.3072  0.3525  0.4270\n",
       "128   0.2760  0.3078  0.3813"
      ]
     },
     "execution_count": 12,
     "metadata": {},
     "output_type": "execute_result"
    }
   ],
   "source": [
    "dims = [32, 64, 128]\n",
    "ndcg10 = [0.3148, 0.3072, 0.2760]\n",
    "hr5 = [0.3505, 0.3525, 0.3078]\n",
    "hr10 = [0.4479, 0.4270, 0.3813]\n",
    "\n",
    "metrics = pd.DataFrame()\n",
    "metrics['dim'] = dims\n",
    "metrics = metrics.set_index('dim')\n",
    "metrics['NDCG@10'] = ndcg10\n",
    "metrics['HR@5'] = hr5\n",
    "metrics['HR@10'] = hr10\n",
    "metrics"
   ]
  },
  {
   "cell_type": "code",
   "execution_count": 15,
   "id": "c04eb13c",
   "metadata": {},
   "outputs": [
    {
     "data": {
      "image/png": "[encoded data removed]",
      "text/plain": [
       "<Figure size 640x480 with 1 Axes>"
      ]
     },
     "metadata": {},
     "output_type": "display_data"
    }
   ],
   "source": [
    "plt.plot(metrics.index, 'NDCG@10', data=metrics, marker='o', label='NDCG@10')\n",
    "plt.plot(metrics.index, 'HR@5', data=metrics, marker='o', label='HR@5')\n",
    "plt.plot(metrics.index, 'HR@10', data=metrics, marker='o', label='HR@10')\n",
    "plt.title('SASRec Performance')\n",
    "plt.xticks(metrics.index)\n",
    "plt.ylim([0,0.5])\n",
    "plt.yticks(np.arange(0, 0.5, step=0.05))\n",
    "plt.xlabel('hidden dimension (d)')\n",
    "plt.ylabel('score')\n",
    "plt.legend()\n",
    "plt.show()"
   ]
  },
  {
   "cell_type": "code",
   "execution_count": null,
   "id": "383822bc",
   "metadata": {},
   "outputs": [],
   "source": []
  }
 ],
 "metadata": {
  "kernelspec": {
   "display_name": "Python 3 (ipykernel)",
   "language": "python",
   "name": "python3"
  },
  "language_info": {
   "codemirror_mode": {
    "name": "ipython",
    "version": 3
   },
   "file_extension": ".py",
   "mimetype": "text/x-python",
   "name": "python",
   "nbconvert_exporter": "python",
   "pygments_lexer": "ipython3",
   "version": "3.11.4"
  }
 },
 "nbformat": 4,
 "nbformat_minor": 5
}
