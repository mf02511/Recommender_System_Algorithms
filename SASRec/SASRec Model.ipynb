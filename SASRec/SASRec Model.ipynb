{
 "cells": [
  {
   "cell_type": "markdown",
   "id": "e955d719",
   "metadata": {},
   "source": [
    "## Training\n",
    "\n",
    "The Training was completed in a separate GPU environment with the following parameters:"
   ]
  },
  {
   "cell_type": "code",
   "execution_count": null,
   "id": "6d005c51",
   "metadata": {},
   "outputs": [],
   "source": [
    "### training ###\n",
    "\n",
    "\n",
    "# # hidden_units = 32\n",
    "\n",
    "# !python main.py \\\n",
    "# --dataset=beauty23 \\\n",
    "# --train_dir=hidden32 \\\n",
    "# --hidden_units=32 \\\n",
    "# --maxlen=50 \\\n",
    "# --dropout_rate=0.5 \\\n",
    "# --device=cuda\n",
    "\n",
    "\n",
    "# # hidden_units = 64\n",
    "\n",
    "# !python main.py \\\n",
    "# --dataset=beauty23 \\\n",
    "# --train_dir=hidden64 \\\n",
    "# --hidden_units=64 \\\n",
    "# --maxlen=50 \\\n",
    "# --dropout_rate=0.5 \\\n",
    "# --device=cuda\n",
    "\n",
    "\n",
    "# # hidden_units = 128\n",
    "\n",
    "# !python main.py \\\n",
    "# --dataset=beauty23 \\\n",
    "# --train_dir=hidden128 \\\n",
    "# --hidden_units=128 \\\n",
    "# --maxlen=50 \\\n",
    "# --dropout_rate=0.5 \\\n",
    "# --device=cuda"
   ]
  },
  {
   "cell_type": "markdown",
   "id": "6538bb01",
   "metadata": {},
   "source": [
    "## Testing\n",
    "\n",
    "The below cells will test the trained SASRec models on the test set."
   ]
  },
  {
   "cell_type": "code",
   "execution_count": 11,
   "id": "3291dd3a",
   "metadata": {},
   "outputs": [
    {
     "name": "stdout",
     "output_type": "stream",
     "text": [
      "average sequence length: 7.42\n",
      "..........test (NDCG@10: 0.3146, HR@5: 0.3644, HR@10: 0.4598)\n",
      "Done\n"
     ]
    }
   ],
   "source": [
    "# test SASRec with hidden_units=32\n",
    "\n",
    "!python main.py \\\n",
    "--device=cpu \\\n",
    "--dataset=beauty23 \\\n",
    "--train_dir=hidden32 \\\n",
    "--state_dict_path='beauty23_hidden32/SASRec.epoch=1000.lr=0.001.layer=2.head=1.hidden=32.maxlen=50.pth' \\\n",
    "--inference_only=true \\\n",
    "--maxlen=50 \\\n",
    "--hidden_units=32 \\\n",
    "--dropout_rate=0.5\n"
   ]
  },
  {
   "cell_type": "code",
   "execution_count": 12,
   "id": "54763753",
   "metadata": {},
   "outputs": [
    {
     "name": "stdout",
     "output_type": "stream",
     "text": [
      "average sequence length: 7.42\n",
      "..........test (NDCG@10: 0.2932, HR@5: 0.3347, HR@10: 0.4151)\n",
      "Done\n"
     ]
    }
   ],
   "source": [
    "# test SASRec with hidden_units=64\n",
    "\n",
    "!python main.py \\\n",
    "--device=cpu \\\n",
    "--dataset=beauty23 \\\n",
    "--train_dir=hidden64 \\\n",
    "--state_dict_path='beauty23_hidden64/SASRec.epoch=1000.lr=0.001.layer=2.head=1.hidden=64.maxlen=50.pth' \\\n",
    "--inference_only=true \\\n",
    "--maxlen=50 \\\n",
    "--hidden_units=64 \\\n",
    "--dropout_rate=0.5\n"
   ]
  },
  {
   "cell_type": "code",
   "execution_count": 10,
   "id": "c7d60acd",
   "metadata": {},
   "outputs": [
    {
     "name": "stdout",
     "output_type": "stream",
     "text": [
      "average sequence length: 7.42\n",
      "..........test (NDCG@10: 0.2804, HR@5: 0.3128, HR@10: 0.3893)\n",
      "Done\n"
     ]
    }
   ],
   "source": [
    "# test SASRec with hidden_units=128\n",
    "\n",
    "!python main.py \\\n",
    "--device=cpu \\\n",
    "--dataset=beauty23 \\\n",
    "--train_dir=hidden128 \\\n",
    "--state_dict_path='beauty23_hidden128/SASRec.epoch=1000.lr=0.001.layer=2.head=1.hidden=128.maxlen=50.pth' \\\n",
    "--inference_only=true \\\n",
    "--maxlen=50 \\\n",
    "--hidden_units=128 \\\n",
    "--dropout_rate=0.5\n"
   ]
  },
  {
   "cell_type": "markdown",
   "id": "1debf721",
   "metadata": {},
   "source": [
    "### Results"
   ]
  },
  {
   "cell_type": "code",
   "execution_count": 13,
   "id": "0ba7d916",
   "metadata": {},
   "outputs": [],
   "source": [
    "import pandas as pd\n",
    "import matplotlib.pyplot as plt"
   ]
  },
  {
   "cell_type": "code",
   "execution_count": 17,
   "id": "418aa096",
   "metadata": {},
   "outputs": [
    {
     "data": {
      "text/html": [
       "<div>\n",
       "<style scoped>\n",
       "    .dataframe tbody tr th:only-of-type {\n",
       "        vertical-align: middle;\n",
       "    }\n",
       "\n",
       "    .dataframe tbody tr th {\n",
       "        vertical-align: top;\n",
       "    }\n",
       "\n",
       "    .dataframe thead th {\n",
       "        text-align: right;\n",
       "    }\n",
       "</style>\n",
       "<table border=\"1\" class=\"dataframe\">\n",
       "  <thead>\n",
       "    <tr style=\"text-align: right;\">\n",
       "      <th></th>\n",
       "      <th>NDCG@10</th>\n",
       "      <th>HR@5</th>\n",
       "      <th>HR@10</th>\n",
       "    </tr>\n",
       "    <tr>\n",
       "      <th>dim</th>\n",
       "      <th></th>\n",
       "      <th></th>\n",
       "      <th></th>\n",
       "    </tr>\n",
       "  </thead>\n",
       "  <tbody>\n",
       "    <tr>\n",
       "      <th>32</th>\n",
       "      <td>0.3146</td>\n",
       "      <td>0.3644</td>\n",
       "      <td>0.4598</td>\n",
       "    </tr>\n",
       "    <tr>\n",
       "      <th>64</th>\n",
       "      <td>0.2932</td>\n",
       "      <td>0.3347</td>\n",
       "      <td>0.4151</td>\n",
       "    </tr>\n",
       "    <tr>\n",
       "      <th>128</th>\n",
       "      <td>0.2804</td>\n",
       "      <td>0.3128</td>\n",
       "      <td>0.3893</td>\n",
       "    </tr>\n",
       "  </tbody>\n",
       "</table>\n",
       "</div>"
      ],
      "text/plain": [
       "     NDCG@10    HR@5   HR@10\n",
       "dim                         \n",
       "32    0.3146  0.3644  0.4598\n",
       "64    0.2932  0.3347  0.4151\n",
       "128   0.2804  0.3128  0.3893"
      ]
     },
     "execution_count": 17,
     "metadata": {},
     "output_type": "execute_result"
    }
   ],
   "source": [
    "dims = [32, 64, 128]\n",
    "ndcg10 = [0.3146, 0.2932, 0.2804]\n",
    "hr5 = [0.3644, 0.3347, 0.3128]\n",
    "hr10 = [0.4598, 0.4151, 0.3893]\n",
    "\n",
    "metrics = pd.DataFrame()\n",
    "metrics['dim'] = dims\n",
    "metrics = metrics.set_index('dim')\n",
    "metrics['NDCG@10'] = ndcg10\n",
    "metrics['HR@5'] = hr5\n",
    "metrics['HR@10'] = hr10\n",
    "metrics"
   ]
  },
  {
   "cell_type": "code",
   "execution_count": 21,
   "id": "6d94e834",
   "metadata": {},
   "outputs": [
    {
     "data": {
      "image/png": "[encoded data removed]",
      "text/plain": [
       "<Figure size 640x480 with 1 Axes>"
      ]
     },
     "metadata": {},
     "output_type": "display_data"
    }
   ],
   "source": [
    "plt.plot(metrics.index, 'NDCG@10', data=metrics, marker='o', label='NDCG@10')\n",
    "plt.plot(metrics.index, 'HR@5', data=metrics, marker='o', label='HR@5')\n",
    "plt.plot(metrics.index, 'HR@10', data=metrics, marker='o', label='HR@10')\n",
    "plt.title('SASRec Performance')\n",
    "plt.xticks(metrics.index)\n",
    "plt.xlabel('hidden dimension (d)')\n",
    "plt.ylabel('score')\n",
    "plt.legend()\n",
    "plt.show()"
   ]
  },
  {
   "cell_type": "code",
   "execution_count": null,
   "id": "19331a00",
   "metadata": {},
   "outputs": [],
   "source": []
  }
 ],
 "metadata": {
  "kernelspec": {
   "display_name": "Python 3 (ipykernel)",
   "language": "python",
   "name": "python3"
  },
  "language_info": {
   "codemirror_mode": {
    "name": "ipython",
    "version": 3
   },
   "file_extension": ".py",
   "mimetype": "text/x-python",
   "name": "python",
   "nbconvert_exporter": "python",
   "pygments_lexer": "ipython3",
   "version": "3.11.4"
  }
 },
 "nbformat": 4,
 "nbformat_minor": 5
}
